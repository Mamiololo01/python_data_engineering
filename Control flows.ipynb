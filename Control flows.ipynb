{
 "cells": [
  {
   "cell_type": "markdown",
   "metadata": {},
   "source": [
    "<h1 align = center>Control flow</h1>\n",
    "<h4 align = center> Facilitator: Kelvin Oyanna</h4>\n",
    "<h4 align = center> Email: dotkelplus@gmail.com</h4>"
   ]
  },
  {
   "cell_type": "markdown",
   "metadata": {},
   "source": [
    "<b> Control flow is a programmig approach that enable us make descision which changes the order of execution or flow of a computer program. They are very critical to making our program run more efficiently and optimally. In this lesson, we're going to learn the different control flows operations in Python. This includes:The if condition, For loop and While loop.</b>"
   ]
  },
  {
   "cell_type": "markdown",
   "metadata": {},
   "source": [
    "## The if condition\n",
    "<b>The if condition is a statement that runs or skips code based on wether a specified condition is true or not. The block of code that follows the if statement is executed if the if condition experession evaluates to TRUE and not executed otherwise.</b>"
   ]
  },
  {
   "cell_type": "code",
   "execution_count": 1,
   "metadata": {},
   "outputs": [
    {
     "name": "stdout",
     "output_type": "stream",
     "text": [
      "Phone balance = 8 \n",
      "Bank balance = 500 \n",
      "\n"
     ]
    }
   ],
   "source": [
    "phone_balance = 8\n",
    "bank_balance = 500\n",
    "\n",
    "print('Phone balance = {} \\nBank balance = {} \\n'. format(phone_balance, bank_balance))\n",
    "#print(f'Phone balance = {phone_balance} Bank balance = {bank_balance}')\n",
    "\n",
    "if phone_balance < 5: # An if condition to check if the value of variable, phone balance is less than 5\n",
    "    phone_balance += 100 # Increase phone_balance by 100\n",
    "    bank_balance -= 100  # decrease bank_balance by 100\n",
    "    print('Hi, your phone balance has been automatically credited from your bank account')\n",
    "    print('Your new balance:')\n",
    "    print('Phone balance = {} \\nBank balance = {}'. format(phone_balance, bank_balance))"
   ]
  },
  {
   "cell_type": "markdown",
   "metadata": {},
   "source": [
    "## The else Clause\n",
    "<b>The Else clause is used to execute a block of code when the if conditional experession evaluates to FALSE.</b>"
   ]
  },
  {
   "cell_type": "code",
   "execution_count": 2,
   "metadata": {},
   "outputs": [
    {
     "name": "stdout",
     "output_type": "stream",
     "text": [
      "Phone balance = 100 \n",
      " Bank balance = 1000\n",
      "You have sufficient balance on your phone\n"
     ]
    }
   ],
   "source": [
    "phone_balance = 100\n",
    "bank_balance = 1000\n",
    "\n",
    "print(f'Phone balance = {phone_balance} \\n Bank balance = {bank_balance}')\n",
    "\n",
    "if phone_balance < 5: # An if condition to check if the value of variable, phone balance is less than 5\n",
    "    phone_balance += 100 # Increase phone_balance by 100\n",
    "    bank_balance -= 100  # decrease bank_balance by 100\n",
    "    print('Hi, your phone balance has been automatically credited from your bank account')\n",
    "    print('Your new balance:')\n",
    "    print('Phone balance = {} \\nBank balance = {}'. format(phone_balance, bank_balance))\n",
    "    \n",
    "else:\n",
    "    print('You have sufficient balance on your phone')\n"
   ]
  },
  {
   "cell_type": "markdown",
   "metadata": {},
   "source": [
    "## The elif Clause\n",
    "<b>The elif clause is used to make a descision among multiple conditions. The block of code after the <b>elif</b> condition executes once the condition that preceeds this block evaluates to TRUE</b>"
   ]
  },
  {
   "cell_type": "code",
   "execution_count": 4,
   "metadata": {},
   "outputs": [
    {
     "name": "stdout",
     "output_type": "stream",
     "text": [
      "Phone balance = 5 \n",
      "Bank balance = 500\n",
      "\n",
      "Your phone balance is currently very low. Kindly recharge as soon as possible\n"
     ]
    }
   ],
   "source": [
    "phone_balance = 5\n",
    "bank_balance = 500\n",
    "\n",
    "print('Phone balance = {} \\nBank balance = {}\\n'. format(phone_balance, bank_balance))\n",
    "\n",
    "if phone_balance < 5: # An if condition to check if the value of variable, phone balance is less than 5\n",
    "    phone_balance += 100 # Increase phone_balance by 100\n",
    "    bank_balance -= 100  # decrease bank_balance by 100\n",
    "    print('Hi, your phone balance has been automatically credited from your bank account')\n",
    "    print('Your new balance:')\n",
    "    print('Phone balance = {} \\nBank balance = {}'. format(phone_balance, bank_balance))\n",
    "    \n",
    "elif phone_balance == 5: # An elif condition to check if phone_balance is equal to 5\n",
    "    print('Your phone balance is currently very low. Kindly recharge as soon as possible')\n",
    "    \n",
    "else:\n",
    "    print('You have sufficient balance on your phone')\n"
   ]
  },
  {
   "cell_type": "markdown",
   "metadata": {},
   "source": [
    "## For Loop\n",
    "<b>A for loop is used for iterating over a sequence or an iterable object like list, a tuple, a dictionary, a set, or a string). Logically, a for loop can be used to repeat an operation in it's code block.</b>"
   ]
  },
  {
   "cell_type": "code",
   "execution_count": 3,
   "metadata": {
    "scrolled": false
   },
   "outputs": [
    {
     "name": "stdout",
     "output_type": "stream",
     "text": [
      "Ghana\n",
      "United Kingdom\n",
      "China\n",
      "Canada\n",
      "Nigeria\n",
      "Brazil\n",
      "Croatia\n",
      "\n",
      "\n"
     ]
    }
   ],
   "source": [
    "# Iterating through a list\n",
    "countries = ['Ghana', 'United Kingdom', 'China', 'Canada', 'Nigeria', 'Brazil', 'Croatia'] # Define a list of countries\n",
    "for country in countries:  # A for loop to iterate through the country list and print every item on the list\n",
    "    print(country)\n",
    "print('\\n')\n",
    "    \n",
    "# Iterating through a string\n",
    "# animal = 'Bird'\n",
    "# for letter in animal: # A for loop to iterate through a string & print every letter in the string\n",
    "#     print(letter)"
   ]
  },
  {
   "cell_type": "code",
   "execution_count": 4,
   "metadata": {
    "scrolled": true
   },
   "outputs": [
    {
     "name": "stdout",
     "output_type": "stream",
     "text": [
      "B\n",
      "i\n",
      "r\n",
      "d\n"
     ]
    }
   ],
   "source": [
    "animal = 'Bird'\n",
    "for letter in animal: # A for loop to iterate through a string & print every letter in the string\n",
    "    print(letter)"
   ]
  },
  {
   "cell_type": "markdown",
   "metadata": {},
   "source": [
    "### Interating through a dictionary"
   ]
  },
  {
   "cell_type": "code",
   "execution_count": 9,
   "metadata": {},
   "outputs": [
    {
     "name": "stdout",
     "output_type": "stream",
     "text": [
      "name\n",
      "age\n",
      "department\n"
     ]
    }
   ],
   "source": [
    "# By default iterating throgh a dictionary returns all the keys of the dictionary\n",
    "staff = {'name': 'Zara', 'age': 7, 'department': 'Finance'}\n",
    "for item in staff:\n",
    "    print(item)"
   ]
  },
  {
   "cell_type": "code",
   "execution_count": 5,
   "metadata": {
    "scrolled": false
   },
   "outputs": [
    {
     "name": "stdout",
     "output_type": "stream",
     "text": [
      "Zara\n",
      "7\n",
      "Finance\n"
     ]
    }
   ],
   "source": [
    "# Getting the values of a dictionary\n",
    "staff = {'name': 'Zara', 'age': 7, 'department': 'Finance'}\n",
    "for value in list(staff.values()):\n",
    "    print(value)"
   ]
  },
  {
   "cell_type": "code",
   "execution_count": 6,
   "metadata": {},
   "outputs": [
    {
     "name": "stdout",
     "output_type": "stream",
     "text": [
      "('name', 'Zara')\n",
      "('age', 7)\n",
      "('department', 'Finance')\n"
     ]
    }
   ],
   "source": [
    "staff = {'name': 'Zara', 'age': 7, 'department': 'Finance'}\n",
    "for key_value in list(staff.items()):\n",
    "    print(key_value)"
   ]
  },
  {
   "cell_type": "markdown",
   "metadata": {},
   "source": [
    "### Interating through a tuple"
   ]
  },
  {
   "cell_type": "code",
   "execution_count": 7,
   "metadata": {},
   "outputs": [
    {
     "name": "stdout",
     "output_type": "stream",
     "text": [
      "physics\n",
      "chemistry\n",
      "Mathematics\n",
      "Biology\n"
     ]
    }
   ],
   "source": [
    "courses = ('physics', 'chemistry', 'Mathematics', 'Biology')\n",
    "for course in courses:\n",
    "    print(course)"
   ]
  },
  {
   "cell_type": "markdown",
   "metadata": {},
   "source": [
    "## List comprehension \n",
    "<b> A list comprehension offers a shorter syntax for creating a new list of objects. The for loop is used withing the square brackets of a list declaration statement to achieve this.</b>"
   ]
  },
  {
   "cell_type": "markdown",
   "metadata": {},
   "source": [
    "## Generate a list of even numbers between 0 and 20"
   ]
  },
  {
   "cell_type": "code",
   "execution_count": 8,
   "metadata": {},
   "outputs": [
    {
     "name": "stdout",
     "output_type": "stream",
     "text": [
      "[0, 1, 2, 3, 4, 5, 6, 7, 8, 9, 10, 11, 12, 13, 14, 15, 16, 17, 18, 19, 20]\n"
     ]
    }
   ],
   "source": [
    "# Using the range function\n",
    "print(list(range(21)))"
   ]
  },
  {
   "cell_type": "code",
   "execution_count": 9,
   "metadata": {},
   "outputs": [
    {
     "name": "stdout",
     "output_type": "stream",
     "text": [
      "[0, 2, 4, 6, 8, 10, 12, 14, 16, 18, 20]\n"
     ]
    }
   ],
   "source": [
    "even_numbers = []\n",
    "for i in range(21):\n",
    "    if (i%2) == 0:\n",
    "        even_numbers.append(i)\n",
    "\n",
    "print(even_numbers)"
   ]
  },
  {
   "cell_type": "markdown",
   "metadata": {},
   "source": [
    "### Using a list comprehension - Shorter method"
   ]
  },
  {
   "cell_type": "code",
   "execution_count": 10,
   "metadata": {},
   "outputs": [
    {
     "name": "stdout",
     "output_type": "stream",
     "text": [
      "[0, 1, 2, 3, 4, 5, 6, 7, 8, 9, 10, 11, 12, 13, 14, 15, 16, 17, 18, 19, 20]\n"
     ]
    }
   ],
   "source": [
    "\n",
    "numbers_2 = [i for  i in range(21)]\n",
    "print(numbers_2)"
   ]
  },
  {
   "cell_type": "code",
   "execution_count": 11,
   "metadata": {
    "scrolled": true
   },
   "outputs": [
    {
     "name": "stdout",
     "output_type": "stream",
     "text": [
      "[0, 2, 4, 6, 8, 10, 12, 14, 16, 18, 20]\n"
     ]
    }
   ],
   "source": [
    "even_list = [i for i in range(21) if (i%2) == 0] \n",
    "print(even_list)\n",
    "\n",
    "# NB: The range() function is used to generate a sequence of integer values here"
   ]
  },
  {
   "cell_type": "markdown",
   "metadata": {},
   "source": [
    "## Creating a list from an existing list using List Comprehension\n",
    "<b>Let's create a list of countries whose name starts with letter \"C\" from the existing countries list</b>"
   ]
  },
  {
   "cell_type": "code",
   "execution_count": 12,
   "metadata": {},
   "outputs": [
    {
     "name": "stdout",
     "output_type": "stream",
     "text": [
      "['China', 'Canada', 'Croatia']\n"
     ]
    }
   ],
   "source": [
    "countries = ['Ghana', 'United Kingdom', 'China', 'Canada', 'Nigeria', 'Brazil', 'Croatia']\n",
    "c_countries = [country for country in countries if country.upper().startswith('C')] # A list comprehension with an if condition \n",
    "# to check if a string has its first letter as \"C\"\n",
    "print(c_countries)"
   ]
  },
  {
   "cell_type": "markdown",
   "metadata": {},
   "source": [
    "## A Word Counter using a For Loop\n",
    "<b>Let's write a simple program to get the count of words in a block of text</b>"
   ]
  },
  {
   "cell_type": "code",
   "execution_count": 13,
   "metadata": {},
   "outputs": [
    {
     "name": "stdout",
     "output_type": "stream",
     "text": [
      "{'great': 4, 'expectations': 1, 'the': 2, 'adventures': 3, 'of': 2, 'sherlock': 1, 'holmes': 1, 'gasby': 1, 'hamlet': 2, 'startup': 1}\n"
     ]
    }
   ],
   "source": [
    "text =  ['great', 'great', 'great', 'expectations','the', 'adventures', 'of', 'sherlock','holmes','the','great','gasby','hamlet','adventures','of','startup','adventures', 'hamlet']\n",
    "word_counter = {} # Create an empty dictionary to hold the word and its count.\n",
    "\n",
    "for word in text:\n",
    "    if word not in word_counter:\n",
    "        word_counter[word] = 1\n",
    "    else:\n",
    "        word_counter[word] += 1\n",
    "\n",
    "print(word_counter)"
   ]
  },
  {
   "cell_type": "markdown",
   "metadata": {},
   "source": [
    "## The break Statement in a For Loop\n",
    "<b>With the break statement, we can stop the execution of a loop before it has looped through all the items</b>"
   ]
  },
  {
   "cell_type": "code",
   "execution_count": 14,
   "metadata": {},
   "outputs": [
    {
     "name": "stdout",
     "output_type": "stream",
     "text": [
      "Ghana\n",
      "United Kingdom\n",
      "China\n",
      "Canada\n"
     ]
    }
   ],
   "source": [
    "countries = ['Ghana', 'United Kingdom', 'China', 'Canada', 'Nigeria', 'Brazil', 'Croatia']\n",
    "for country in countries:\n",
    "    if country == 'Nigeria':\n",
    "        break # Break out of the loop if the preceeding condition is True\n",
    "    print(country)"
   ]
  },
  {
   "cell_type": "markdown",
   "metadata": {},
   "source": [
    "## The continue Statement in a For Loop\n",
    "<b>With the continue statement we can skip the current iteration of the loop, and continue with the next</b>"
   ]
  },
  {
   "cell_type": "code",
   "execution_count": 49,
   "metadata": {},
   "outputs": [
    {
     "name": "stdout",
     "output_type": "stream",
     "text": [
      "Ghana\n",
      "United Kingdom\n",
      "Canada\n",
      "Nigeria\n",
      "Brazil\n",
      "Croatia\n"
     ]
    }
   ],
   "source": [
    "countries = ['Ghana', 'United Kingdom', 'China', 'Canada', 'Nigeria', 'Brazil', 'Croatia']\n",
    "for country in countries:\n",
    "    if country == 'China':\n",
    "        continue # skip the execution when the if condition is True, then continue execution of the next iteration\n",
    "    print(country)"
   ]
  },
  {
   "cell_type": "markdown",
   "metadata": {},
   "source": [
    "## While Loop\n",
    "<b>The while loop is used to repeatedly execute a target statement as long as a given condition is TRUE. While the Foor loop runs in a predefined number of time (e.g number of items is a list), the While loop runs in an unknow number of times and only stops execution when its condition becomes false.</b>"
   ]
  },
  {
   "cell_type": "code",
   "execution_count": 50,
   "metadata": {},
   "outputs": [
    {
     "name": "stdout",
     "output_type": "stream",
     "text": [
      "The current value of count is: 0\n",
      "The current value of count is: 1\n",
      "The current value of count is: 2\n",
      "The current value of count is: 3\n",
      "The current value of count is: 4\n",
      "The current value of count is: 5\n",
      "The current value of count is: 6\n",
      "The current value of count is: 7\n",
      "The current value of count is: 8\n",
      "The current value of count is: 9\n",
      "Good bye!\n"
     ]
    }
   ],
   "source": [
    "count = 0 # A counter variable to control when the loop should stop execution\n",
    "while (count < 10):\n",
    "    print('The current value of count is:', count)\n",
    "    count += 1\n",
    "print('Good bye!')"
   ]
  },
  {
   "cell_type": "markdown",
   "metadata": {},
   "source": [
    "## Break Statement in a While Loop\n",
    "<b>With the break statement we can stop the loop even if the while condition is true:</b>"
   ]
  },
  {
   "cell_type": "code",
   "execution_count": 17,
   "metadata": {},
   "outputs": [
    {
     "name": "stdout",
     "output_type": "stream",
     "text": [
      "0\n",
      "1\n",
      "2\n",
      "3\n",
      "4\n",
      "5\n",
      "6\n",
      "Good bye!\n"
     ]
    }
   ],
   "source": [
    "count = 0 # A counter variable to control when the loop should stop execution\n",
    "while (count < 10):\n",
    "    print(count)\n",
    "    count += 1\n",
    "    if count == 7:\n",
    "        break\n",
    "print('Good bye!')"
   ]
  },
  {
   "cell_type": "markdown",
   "metadata": {},
   "source": [
    "## Continue Statement in a While Loop\n",
    "\n",
    "<b>With the continue statement we can skip the current iteration, and continue with execution of the next iterations</b>"
   ]
  },
  {
   "cell_type": "code",
   "execution_count": 53,
   "metadata": {},
   "outputs": [
    {
     "name": "stdout",
     "output_type": "stream",
     "text": [
      "1\n",
      "2\n",
      "3\n",
      "4\n",
      "6\n",
      "7\n",
      "8\n",
      "9\n",
      "10\n"
     ]
    }
   ],
   "source": [
    "count = 0     # A counter variable to control when the loop should stop execution\n",
    "while (count < 10):\n",
    "    count += 1\n",
    "    if count == 5:\n",
    "        continue\n",
    "    print(count)"
   ]
  },
  {
   "cell_type": "code",
   "execution_count": null,
   "metadata": {},
   "outputs": [],
   "source": []
  }
 ],
 "metadata": {
  "kernelspec": {
   "display_name": "Python 3 (ipykernel)",
   "language": "python",
   "name": "python3"
  },
  "language_info": {
   "codemirror_mode": {
    "name": "ipython",
    "version": 3
   },
   "file_extension": ".py",
   "mimetype": "text/x-python",
   "name": "python",
   "nbconvert_exporter": "python",
   "pygments_lexer": "ipython3",
   "version": "3.11.3"
  }
 },
 "nbformat": 4,
 "nbformat_minor": 4
}
