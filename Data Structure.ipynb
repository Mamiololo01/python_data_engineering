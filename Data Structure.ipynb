{
 "cells": [
  {
   "cell_type": "markdown",
   "metadata": {},
   "source": [
    "<h1 align = center> Data Structure: List, Dictionary, Tuple & Set</h1>\n"
   ]
  },
  {
   "cell_type": "markdown",
   "metadata": {},
   "source": [
    "<b> Data structrures provide a way to group values of the integer, float, string etc. data types.\n",
    "In this lesson, we will be discusing the different data structures in Python. This includes: List, Dictionary,\n",
    "tuple and set data types.</b>"
   ]
  },
  {
   "cell_type": "markdown",
   "metadata": {},
   "source": [
    "## List"
   ]
  },
  {
   "cell_type": "markdown",
   "metadata": {},
   "source": [
    "<b>A list is a mutable ordered sequences of elements. It is defined with two square brackets with each elements in the square barackets separated by a coma. See example of a list below:</b>"
   ]
  },
  {
   "cell_type": "code",
   "execution_count": 2,
   "metadata": {},
   "outputs": [],
   "source": [
    "# Define a list of months\n",
    "months = ['January', 'February', 'March', 'April', 'May', 'June', 'July', 'August', 'September', 'October', 'November', 'December']"
   ]
  },
  {
   "cell_type": "code",
   "execution_count": 3,
   "metadata": {},
   "outputs": [],
   "source": [
    "ages = [67, 45, 34, 20, 77, 12, 8, 44]"
   ]
  },
  {
   "cell_type": "markdown",
   "metadata": {},
   "source": [
    "### Accessing Values in a List\n",
    "<b> We can retrieve a particular element or group of elements of a list by using indexes. A list has a zero-based index. This means the index of a list starts from zero. Example:</b>"
   ]
  },
  {
   "cell_type": "code",
   "execution_count": 4,
   "metadata": {},
   "outputs": [
    {
     "name": "stdout",
     "output_type": "stream",
     "text": [
      "July\n",
      "['March', 'April', 'May', 'June', 'July', 'August', 'September']\n",
      "December\n",
      "['January', 'February', 'March', 'April', 'May']\n",
      "['April', 'May', 'June', 'July', 'August', 'September', 'October', 'November', 'December']\n"
     ]
    }
   ],
   "source": [
    "print(months[6])   # Get the month of july\n",
    "\n",
    "print(months[2:9]) # Get get the items between index 2 and 9 (index 9 excluded)\n",
    "\n",
    "print(months[-1])  # Get the last element of the list\n",
    "\n",
    "print(months[:5])  # Get the elements between index 0 and index 5 (index 5 excluded)\n",
    "\n",
    "print(months[3:])  # Get the elements from index 3 to the last element on the list"
   ]
  },
  {
   "cell_type": "markdown",
   "metadata": {},
   "source": [
    "### Updating the elements of a list"
   ]
  },
  {
   "cell_type": "code",
   "execution_count": 5,
   "metadata": {},
   "outputs": [
    {
     "name": "stdout",
     "output_type": "stream",
     "text": [
      "['Physics', 'Chemistry', 'Economics', 'Mathematics', 'Englis Language', 'Health Education']\n",
      "['Physics', 'Chemistry', 'Economics', 'Mathematics', 'Englis Language', 'Health Education']\n"
     ]
    }
   ],
   "source": [
    "subjects = ['Physics', 'Chemistry', 'Biology', 'Mathematics', 'Englis Language'] # Define a list of subjects taught\n",
    "\n",
    "subjects[2] = 'Economics' # Assign a new value to the element at index 2\n",
    "\n",
    "subjects.append('Health Education') # Add a new element to the end of the list\n",
    "\n",
    "print(subjects) # Print\n",
    "\n",
    "#print(subjects.pop(2)) # Remove the element at index 0\n",
    "#print(subjects) # Print\n",
    "#subjects[0] = 'Statistics'\n",
    "print(subjects)"
   ]
  },
  {
   "cell_type": "markdown",
   "metadata": {},
   "source": [
    "### List Functions"
   ]
  },
  {
   "cell_type": "code",
   "execution_count": 7,
   "metadata": {},
   "outputs": [
    {
     "name": "stdout",
     "output_type": "stream",
     "text": [
      "10\n",
      "4\n",
      "50\n",
      "1\n",
      "[50, 22, 12, 12, 12, 6, 5, 4, 4, 4]\n"
     ]
    }
   ],
   "source": [
    "num_list = [12, 5, 4, 6, 22, 4, 50, 12, 4, 12] # Define a list of numeric values\n",
    "\n",
    "print(len(num_list))     # Returns the size or number of items of a list\n",
    "\n",
    "print(min(num_list))     # Returns the smallest element of a list\n",
    "\n",
    "print(max(num_list))     # Returns the largest element of a list\n",
    "\n",
    "print(num_list.count(5)) # Returns the count of the object passed as argument, in the list\n",
    "\n",
    "num_list.sort(reverse = True)          # Sort the list in ascending order\n",
    "print(num_list)\n",
    "#print(sum(num_list))   # Sum all the items of a list"
   ]
  },
  {
   "cell_type": "markdown",
   "metadata": {},
   "source": [
    "### Check if an element is in a list\n",
    "<b>The 'in' operator is used to check if an element is present in a list. It returns a boolean True if item is in a list or False otherwise.</b>"
   ]
  },
  {
   "cell_type": "code",
   "execution_count": 9,
   "metadata": {
    "scrolled": true
   },
   "outputs": [
    {
     "name": "stdout",
     "output_type": "stream",
     "text": [
      "True\n",
      "False\n"
     ]
    }
   ],
   "source": [
    "num_list = [12, 5, 4, 6, 22, 4, 50]\n",
    "\n",
    "print(50 in num_list) # Check if '10' is present in the list\n",
    "\n",
    "print(29 in num_list) # Check if '22' is present in the list"
   ]
  },
  {
   "cell_type": "markdown",
   "metadata": {},
   "source": [
    "## Dictionary"
   ]
  },
  {
   "cell_type": "markdown",
   "metadata": {},
   "source": [
    "<b> A dictionary is a data structure that store a Key-Value pair of elements. A dictionary is define in two curly braces with each item of the dictionary separated by commas. The keys of a dictionary are unque.</b>"
   ]
  },
  {
   "cell_type": "code",
   "execution_count": 10,
   "metadata": {},
   "outputs": [],
   "source": [
    "staff = {'staff_id': 123, 'name': 'Zara', 'age': 7, 'department': 'Finance'} # Define a dictionary"
   ]
  },
  {
   "cell_type": "markdown",
   "metadata": {},
   "source": [
    "### Accessing Values in a Dictionary\n",
    "<b>We can retrieve a particular value in a dictionay by specifying the key in a square bracket. Example:</b>"
   ]
  },
  {
   "cell_type": "code",
   "execution_count": 11,
   "metadata": {},
   "outputs": [
    {
     "name": "stdout",
     "output_type": "stream",
     "text": [
      "7\n",
      "Finance\n"
     ]
    }
   ],
   "source": [
    "print(staff['age'])  # Get the name of a staff\n",
    "\n",
    "print(staff['department'])  # Get the department of the staff"
   ]
  },
  {
   "cell_type": "markdown",
   "metadata": {},
   "source": [
    "### Updating items in a dictionary"
   ]
  },
  {
   "cell_type": "code",
   "execution_count": 14,
   "metadata": {},
   "outputs": [
    {
     "name": "stdout",
     "output_type": "stream",
     "text": [
      "{'name': 'Mamiololo', 'age': 60, 'department': 'Finance'}\n"
     ]
    }
   ],
   "source": [
    "staff = {'name': 'Zara', 'age': 7, 'department': 'Finance'}\n",
    "\n",
    "staff['age'] = 60 # Update the age of the staff with value 60 from 7\n",
    "staff['name'] = 'Mamiololo'\n",
    "\n",
    "print(staff)"
   ]
  },
  {
   "cell_type": "markdown",
   "metadata": {},
   "source": [
    "### Adding new Key Value Pair to a dictionary\n",
    "<b> Just like a list, you can add a new key-value pair to the end of an existing dictionary using the Update function</b>"
   ]
  },
  {
   "cell_type": "code",
   "execution_count": 25,
   "metadata": {
    "scrolled": true
   },
   "outputs": [
    {
     "name": "stdout",
     "output_type": "stream",
     "text": [
      "{'name': 'Zara', 'age': 7, 'department': 'Finance', 'country': 'Canada', 'staff_id': 7856}\n"
     ]
    }
   ],
   "source": [
    "staff = {'name': 'Zara', 'age': 7, 'department': 'Finance'}\n",
    "\n",
    "staff.update({'country': 'Canada', 'staff_id': 7856}) # Add country of staff to the dictionary\n",
    "\n",
    "print(staff)"
   ]
  },
  {
   "cell_type": "code",
   "execution_count": 15,
   "metadata": {},
   "outputs": [
    {
     "name": "stdout",
     "output_type": "stream",
     "text": [
      "Mamiololo\n"
     ]
    }
   ],
   "source": [
    "print(staff.get('name')) "
   ]
  },
  {
   "cell_type": "markdown",
   "metadata": {},
   "source": [
    "### Dictionary functions"
   ]
  },
  {
   "cell_type": "code",
   "execution_count": 16,
   "metadata": {},
   "outputs": [
    {
     "name": "stdout",
     "output_type": "stream",
     "text": [
      "3\n",
      "dict_items([('name', 'Zara'), ('age', 7), ('department', 'Finance')])\n",
      "dict_values(['Zara', 7, 'Finance'])\n",
      "dict_keys(['name', 'age', 'department'])\n",
      "None\n"
     ]
    }
   ],
   "source": [
    "staff = {'name': 'Zara', 'age': 7, 'department': 'Finance'}\n",
    "\n",
    "print(len(staff))    # Returns the lenght of the dictionary\n",
    "\n",
    "print(staff.items())  # Returns a list of the dictionary's (key, value) tuple pairs\n",
    "\n",
    "print(staff.values())  # Returns a list of the dictionary's values\n",
    "\n",
    "print(staff.keys()) # Returns a list of the dictionary's keys\n",
    "\n",
    "print(staff.get('level')) # Returns value of the specified key or default value None if key not in dictionary"
   ]
  },
  {
   "cell_type": "code",
   "execution_count": 17,
   "metadata": {
    "scrolled": true
   },
   "outputs": [
    {
     "name": "stdout",
     "output_type": "stream",
     "text": [
      "['name', 'age', 'department']\n"
     ]
    }
   ],
   "source": [
    "print(list(staff.keys()))"
   ]
  },
  {
   "cell_type": "code",
   "execution_count": 18,
   "metadata": {},
   "outputs": [
    {
     "name": "stdout",
     "output_type": "stream",
     "text": [
      "['Zara', 7, 'Finance']\n"
     ]
    }
   ],
   "source": [
    "print(list(staff.values()))"
   ]
  },
  {
   "cell_type": "code",
   "execution_count": 19,
   "metadata": {},
   "outputs": [
    {
     "name": "stdout",
     "output_type": "stream",
     "text": [
      "dict_items([('name', 'Zara'), ('age', 7), ('department', 'Finance')])\n"
     ]
    }
   ],
   "source": [
    "print(staff.items())"
   ]
  },
  {
   "cell_type": "code",
   "execution_count": 20,
   "metadata": {
    "scrolled": true
   },
   "outputs": [
    {
     "ename": "KeyError",
     "evalue": "'salary'",
     "output_type": "error",
     "traceback": [
      "\u001b[0;31m---------------------------------------------------------------------------\u001b[0m",
      "\u001b[0;31mKeyError\u001b[0m                                  Traceback (most recent call last)",
      "Cell \u001b[0;32mIn[20], line 1\u001b[0m\n\u001b[0;32m----> 1\u001b[0m staff[\u001b[38;5;124m'\u001b[39m\u001b[38;5;124msalary\u001b[39m\u001b[38;5;124m'\u001b[39m]\n",
      "\u001b[0;31mKeyError\u001b[0m: 'salary'"
     ]
    }
   ],
   "source": [
    "staff['salary']"
   ]
  },
  {
   "cell_type": "code",
   "execution_count": 21,
   "metadata": {},
   "outputs": [
    {
     "data": {
      "text/plain": [
       "'Unvailable'"
      ]
     },
     "execution_count": 21,
     "metadata": {},
     "output_type": "execute_result"
    }
   ],
   "source": [
    "staff.get('salary', 'Unvailable')"
   ]
  },
  {
   "cell_type": "markdown",
   "metadata": {},
   "source": [
    "## Tuple \n",
    "<b>A tuple is a collection of ordered and immutable objects. Tuples are sequences, just like lists. The differences between tuples and lists are: \n",
    "<p> 1. Tuples cannot be changed unlike lists</p>\n",
    "<p>2.Tuples use parentheses, whereas lists use square brackets.</p>\n",
    "    \n",
    "Tuples are mostly useful when a pair of values must always go together E.g (logitude, latitutude), (username, password). See example of tuple below:</b>"
   ]
  },
  {
   "cell_type": "code",
   "execution_count": 22,
   "metadata": {},
   "outputs": [],
   "source": [
    "courses = ('physics', 'chemistry', 'Mathematics', 'Biology') # Define a tuple"
   ]
  },
  {
   "cell_type": "code",
   "execution_count": 23,
   "metadata": {},
   "outputs": [
    {
     "data": {
      "text/plain": [
       "[('Jane', 'John'), ('Morayo', 'Chinedu'), ('Tayo', 'Smog')]"
      ]
     },
     "execution_count": 23,
     "metadata": {},
     "output_type": "execute_result"
    }
   ],
   "source": [
    "couples = [ ('Jane', 'John'), ('Morayo', 'Chinedu'), ('Bella', 'Smog')]\n",
    "couples[2] = ('Tayo', 'Smog')\n",
    "couples"
   ]
  },
  {
   "cell_type": "markdown",
   "metadata": {},
   "source": [
    "### Accessing Values in Tuples"
   ]
  },
  {
   "cell_type": "code",
   "execution_count": 47,
   "metadata": {},
   "outputs": [
    {
     "name": "stdout",
     "output_type": "stream",
     "text": [
      "Mathematics\n"
     ]
    }
   ],
   "source": [
    "print(courses[2])   # Retrieve the element at index 2"
   ]
  },
  {
   "cell_type": "markdown",
   "metadata": {},
   "source": [
    "### Imutability of a tuple"
   ]
  },
  {
   "cell_type": "code",
   "execution_count": 24,
   "metadata": {},
   "outputs": [
    {
     "ename": "TypeError",
     "evalue": "'tuple' object does not support item assignment",
     "output_type": "error",
     "traceback": [
      "\u001b[0;31m---------------------------------------------------------------------------\u001b[0m",
      "\u001b[0;31mTypeError\u001b[0m                                 Traceback (most recent call last)",
      "Cell \u001b[0;32mIn[24], line 1\u001b[0m\n\u001b[0;32m----> 1\u001b[0m courses[\u001b[38;5;241m3\u001b[39m] \u001b[38;5;241m=\u001b[39m \u001b[38;5;124m'\u001b[39m\u001b[38;5;124mEconomics\u001b[39m\u001b[38;5;124m'\u001b[39m\n",
      "\u001b[0;31mTypeError\u001b[0m: 'tuple' object does not support item assignment"
     ]
    }
   ],
   "source": [
    "courses[3] = 'Economics' # Returns error as this attempts to alter an element of the tuple."
   ]
  },
  {
   "cell_type": "markdown",
   "metadata": {},
   "source": [
    "<b> Most of the operations on list and dictionary above are also applicable to tuples</b>"
   ]
  },
  {
   "cell_type": "markdown",
   "metadata": {},
   "source": [
    "## Sets\n",
    "<b>A set is a data structure consisting of mutable unordered collection of UNIQUE elements. Set is useful for removing duplicates from a group of items.</b>"
   ]
  },
  {
   "cell_type": "code",
   "execution_count": 25,
   "metadata": {},
   "outputs": [],
   "source": [
    "fruits = {'orange', 'Banana', 'Apple', 'Banana'} # Define a Set containing fruits"
   ]
  },
  {
   "cell_type": "code",
   "execution_count": 26,
   "metadata": {
    "scrolled": true
   },
   "outputs": [
    {
     "name": "stdout",
     "output_type": "stream",
     "text": [
      "{'Apple', 'Banana', 'orange'}\n"
     ]
    }
   ],
   "source": [
    "print(fruits)"
   ]
  },
  {
   "cell_type": "code",
   "execution_count": 27,
   "metadata": {},
   "outputs": [
    {
     "data": {
      "text/plain": [
       "{123, 222, 345, 678}"
      ]
     },
     "execution_count": 27,
     "metadata": {},
     "output_type": "execute_result"
    }
   ],
   "source": [
    "staff_ids = {123, 345, 678, 222, 222}\n",
    "staff_ids"
   ]
  },
  {
   "cell_type": "markdown",
   "metadata": {},
   "source": [
    "### Creating a set using the set() constructor \n",
    "<b>Let's use this to remove duplicate from a list of elements</b>"
   ]
  },
  {
   "cell_type": "code",
   "execution_count": 73,
   "metadata": {},
   "outputs": [
    {
     "name": "stdout",
     "output_type": "stream",
     "text": [
      "{'United Kingdom', 'Canada', 'Ghana', 'Nigeria', 'China'}\n"
     ]
    }
   ],
   "source": [
    "countries = ['Ghana', 'United Kingdom', 'China', 'Canada', 'Canada', 'Nigeria', 'Ghana'] # Define a list of countries\n",
    "\n",
    "unique_countries = set(countries)  # Converts the list to an unordered set with unique elements\n",
    "\n",
    "print(unique_countries)"
   ]
  },
  {
   "cell_type": "markdown",
   "metadata": {},
   "source": [
    "### Adding new elements to a set"
   ]
  },
  {
   "cell_type": "code",
   "execution_count": 74,
   "metadata": {
    "scrolled": false
   },
   "outputs": [
    {
     "name": "stdout",
     "output_type": "stream",
     "text": [
      "{'United Kingdom', 'Canada', 'Brazil', 'Ghana', 'Nigeria', 'China'}\n"
     ]
    }
   ],
   "source": [
    "unique_countries.add('Brazil')  # Add a new country - Brazil\n",
    "\n",
    "print(unique_countries)"
   ]
  },
  {
   "cell_type": "markdown",
   "metadata": {},
   "source": [
    "<b>Most of the operations on list and dictionary above are also applicable to sets</b>"
   ]
  },
  {
   "cell_type": "markdown",
   "metadata": {},
   "source": [
    "### Functions applicable to the different data structures"
   ]
  },
  {
   "cell_type": "markdown",
   "metadata": {},
   "source": [
    "list = append()\n",
    "dictionary = update()\n",
    "set = add()\n",
    "tupple = append()"
   ]
  },
  {
   "cell_type": "code",
   "execution_count": null,
   "metadata": {},
   "outputs": [],
   "source": []
  }
 ],
 "metadata": {
  "kernelspec": {
   "display_name": "Python 3 (ipykernel)",
   "language": "python",
   "name": "python3"
  },
  "language_info": {
   "codemirror_mode": {
    "name": "ipython",
    "version": 3
   },
   "file_extension": ".py",
   "mimetype": "text/x-python",
   "name": "python",
   "nbconvert_exporter": "python",
   "pygments_lexer": "ipython3",
   "version": "3.11.3"
  }
 },
 "nbformat": 4,
 "nbformat_minor": 4
}
