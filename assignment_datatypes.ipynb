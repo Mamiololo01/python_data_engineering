{
 "cells": [
  {
   "cell_type": "markdown",
   "id": "2772552e",
   "metadata": {},
   "source": [
    "## Number -  Integer and Float"
   ]
  },
  {
   "cell_type": "code",
   "execution_count": 56,
   "id": "61d1c637",
   "metadata": {},
   "outputs": [
    {
     "name": "stdout",
     "output_type": "stream",
     "text": [
      "<class 'int'>\n",
      "<class 'float'>\n"
     ]
    }
   ],
   "source": [
    "# What is the data type for 100\n",
    "# What is the data type for 100.05\n",
    "# Use print\n",
    "\n",
    "#--------------- Write your code below----------------------------#\n",
    "\n",
    "print(type(100))\n",
    "\n",
    "print(type(100.05))"
   ]
  },
  {
   "cell_type": "code",
   "execution_count": 4,
   "id": "cf4a6328",
   "metadata": {},
   "outputs": [
    {
     "data": {
      "text/plain": [
       "30.0"
      ]
     },
     "execution_count": 4,
     "metadata": {},
     "output_type": "execute_result"
    }
   ],
   "source": [
    "# Basic Arithmetic\n",
    "# what is 15% of 200\n",
    "\n",
    "#--------------- Write your code below----------------------------#\n",
    "15/100 * 200"
   ]
  },
  {
   "cell_type": "code",
   "execution_count": 10,
   "id": "0e9ec9bd",
   "metadata": {},
   "outputs": [
    {
     "data": {
      "text/plain": [
       "2782.5"
      ]
     },
     "execution_count": 10,
     "metadata": {},
     "output_type": "execute_result"
    }
   ],
   "source": [
    "# Juanita’s salary is $2,650.00 per month. If she receives a salary increase of 5%, what is her new monthly salary?\n",
    "\n",
    "#--------------- Write your code below----------------------------#\n",
    "junita_sal = 2650\n",
    "increase = 5/100 * 2650\n",
    "new_sal = junita_sal + increase\n",
    "new_sal\n"
   ]
  },
  {
   "cell_type": "code",
   "execution_count": 25,
   "id": "c0d17c9b",
   "metadata": {},
   "outputs": [
    {
     "data": {
      "text/plain": [
       "480"
      ]
     },
     "execution_count": 25,
     "metadata": {},
     "output_type": "execute_result"
    }
   ],
   "source": [
    "# Jasper collects 1,082 cans of food. He gives a certain number of cans to the first local charity he finds. \n",
    "# He now has 602 cans of food. How many cans of food did he give to the first local charity?\n",
    "\n",
    "#--------------- Write your code below----------------------------#\n",
    "\n",
    "totalCan = 1082\n",
    "firstLocalCharity = x\n",
    "remainingCans = 602\n",
    "x = totalCan - remainingCans\n",
    "x\n"
   ]
  },
  {
   "cell_type": "code",
   "execution_count": 11,
   "id": "0f60eca1",
   "metadata": {},
   "outputs": [
    {
     "name": "stdout",
     "output_type": "stream",
     "text": [
      "Enter a number:100\n",
      "The square root of 100 is  10.0\n"
     ]
    }
   ],
   "source": [
    "# what is the square root of 100\n",
    "\n",
    "#--------------- Write your code below----------------------------#\n",
    "\n",
    "import math\n",
    "num = int(input(\"Enter a number:\"))\n",
    "sqRoot = math.sqrt(num)\n",
    "print (f\"The square root of {num} is \" ,sqRoot)"
   ]
  },
  {
   "cell_type": "markdown",
   "id": "182fe6cf",
   "metadata": {},
   "source": [
    "## Variable Assignment - Integers and Floats"
   ]
  },
  {
   "cell_type": "code",
   "execution_count": 27,
   "id": "d8a51387",
   "metadata": {},
   "outputs": [
    {
     "name": "stdout",
     "output_type": "stream",
     "text": [
      "Please enter your income 2000\n",
      "Please enter your tax amount 100\n"
     ]
    },
    {
     "data": {
      "text/plain": [
       "1900.0"
      ]
     },
     "execution_count": 27,
     "metadata": {},
     "output_type": "execute_result"
    }
   ],
   "source": [
    "# what is the difference between income and tax i.e. income - tax and assign it to disposbale income\n",
    "# disposable_income = income - tax\n",
    "# Use input\n",
    "#--------------- Write your code below----------------------------#\n",
    "\n",
    "income = float(input(\"Please enter your income \"))\n",
    "tax = float(input(\"Please enter your tax amount \"))\n",
    "di = disposable_income\n",
    "disposable_income = income - tax\n",
    "di\n"
   ]
  },
  {
   "cell_type": "code",
   "execution_count": 30,
   "id": "bb7c5649",
   "metadata": {},
   "outputs": [
    {
     "name": "stdout",
     "output_type": "stream",
     "text": [
      "Enter Pamela salary per month 3125\n"
     ]
    },
    {
     "data": {
      "text/plain": [
       "3281.25"
      ]
     },
     "execution_count": 30,
     "metadata": {},
     "output_type": "execute_result"
    }
   ],
   "source": [
    "# Pamela’s salary is $3125.00 per month. If she receives a salary increase of 5%, her new monthly salary is:\n",
    "# pam_sal = \n",
    "# sal_increase = \n",
    "# new_salary = \n",
    "# Use input\n",
    "#--------------- Write your code below----------------------------#\n",
    "\n",
    "pam_sal = float(input(\"Enter Pamela salary per month \"))\n",
    "x = pam_sal\n",
    "y = pam_sal * 0.05\n",
    "new_salary = x + y\n",
    "new_salary"
   ]
  },
  {
   "cell_type": "code",
   "execution_count": 24,
   "id": "894a0a42",
   "metadata": {},
   "outputs": [
    {
     "name": "stdout",
     "output_type": "stream",
     "text": [
      "Please enter value of a 1200\n",
      "Please enter value of b 0.56\n",
      "Please enter value of x 2500\n"
     ]
    },
    {
     "data": {
      "text/plain": [
       "2600.0"
      ]
     },
     "execution_count": 24,
     "metadata": {},
     "output_type": "execute_result"
    }
   ],
   "source": [
    "# You plan to forecast using the Simple Liner Forecast (Y = a + bx). What is Y? when a=1200, b=0.56 and x = 2500\n",
    "# a = \n",
    "# b = \n",
    "# x = \n",
    "# y = a + bx\n",
    "# Use input\n",
    "#--------------- Write your code below----------------------------#\n",
    "\n",
    "a = float(input(\"Please enter value of a \"))\n",
    "b = float(input(\"Please enter value of b \"))\n",
    "x = float(input(\"Please enter value of x \"))\n",
    "Y = (a + b * x)\n",
    "Y"
   ]
  },
  {
   "cell_type": "code",
   "execution_count": 13,
   "id": "c326af27",
   "metadata": {},
   "outputs": [
    {
     "name": "stdout",
     "output_type": "stream",
     "text": [
      "What is your score for first test 20\n",
      "What is your score for first test 20\n",
      "What is your score for attendance 10\n",
      "What's your exam score 41\n"
     ]
    },
    {
     "data": {
      "text/plain": [
       "91.0"
      ]
     },
     "execution_count": 13,
     "metadata": {},
     "output_type": "execute_result"
    }
   ],
   "source": [
    "# Student Calculator\n",
    "# Get user input to calculate total score\n",
    "\n",
    "# first_test = input(What is your score for first test: )\n",
    "# second_test == input(\"What is your score for second test: )\n",
    "# attendance = input(What is your score for attendance: )\n",
    "# exam = input(What is your score for exam: )\n",
    "# total_score = f_test + s_test + attend + examination\n",
    "# total_score\n",
    "\n",
    "#--------------- Write your code below----------------------------#\n",
    "\n",
    "f_test = float(input(\"What is your score for first test \"))\n",
    "s_test = float(input(\"What is your score for first test \"))\n",
    "attend_num = float(input(\"What is your score for attendance \"))\n",
    "exam = float(input(\"What's your exam score \"))\n",
    "\n",
    "total_score = f_test + s_test + attend_num + exam\n",
    "\n",
    "total_score\n"
   ]
  },
  {
   "cell_type": "markdown",
   "id": "f9ab0e76",
   "metadata": {},
   "source": [
    "## Strings"
   ]
  },
  {
   "cell_type": "code",
   "execution_count": 45,
   "id": "badcafb7",
   "metadata": {},
   "outputs": [
    {
     "name": "stdout",
     "output_type": "stream",
     "text": [
      "quick brown fox\n",
      "the lazy dog\n",
      "the lazy dog\n"
     ]
    },
    {
     "data": {
      "text/plain": [
       "43"
      ]
     },
     "execution_count": 45,
     "metadata": {},
     "output_type": "execute_result"
    }
   ],
   "source": [
    "# Assign The quick brown fox jumps over the lazy dog to a Variable(text)\n",
    "\n",
    "# text = The quick brown fox jumps over the lazy dog\n",
    "\n",
    "# Slice the string to obtain quick brown fox\n",
    "# Slice the string to obtain the lazy dog\n",
    "# Use negative Indexing to obtain lazy dog\n",
    "# Obtain the Length of the string\n",
    "\n",
    "#--------------- Write your code below----------------------------#\n",
    "text = \"The quick brown fox jumps over the lazy dog\"\n",
    "sliced_text = text[4:19] \n",
    "print(sliced_text)\n",
    "sliced_text = text[31:43]\n",
    "print(sliced_text)\n",
    "sliced_text = text[-12:]\n",
    "print(sliced_text)\n",
    "len(text)\n",
    "\n"
   ]
  },
  {
   "cell_type": "code",
   "execution_count": 46,
   "id": "0ddd2e4b",
   "metadata": {},
   "outputs": [
    {
     "name": "stdout",
     "output_type": "stream",
     "text": [
      "['The', 'quick', 'brown', 'fox', 'jumps', 'over', 'the', 'lazy', 'dog']\n"
     ]
    }
   ],
   "source": [
    "# Assign The quick brown fox jumps over the lazy dog to a Variable(text)\n",
    "\n",
    "# Convert this string above into a list using one of the list methods\n",
    "\n",
    "text = \"The quick brown fox jumps over the lazy dog\"\n",
    "check_list = text.split()\n",
    "print(check_list)"
   ]
  },
  {
   "cell_type": "code",
   "execution_count": 53,
   "id": "95bf5a31",
   "metadata": {},
   "outputs": [
    {
     "name": "stdout",
     "output_type": "stream",
     "text": [
      "What is your name? Chris\n",
      "How old are you? 34\n",
      "What is your state of origin? Imo\n",
      "What is your profession? Data Engineer\n",
      "My name is Chris i'm 34.0 years old. I am from Imo state and i am Data Engineer by profession\n"
     ]
    }
   ],
   "source": [
    "# Get input from user and Concatenate the code below\n",
    "\n",
    "# Name = What is your name?\n",
    "# Age = How old are you?\n",
    "# State = What is your state of origin?\n",
    "# Profession = What is your profession?\n",
    "# Bio = print(My name is _ and i'm _ years old. I am from _ state and i am _ by profession)\n",
    "\n",
    "#--------------- Write your code below----------------------------#\n",
    "\n",
    "Name = str(input(\"What is your name? \"))\n",
    "Age = float(input(\"How old are you? \"))\n",
    "State = str(input(\"What is your state of origin? \"))\n",
    "Profession = str(input(\"What is your profession? \"))\n",
    "Bio = f\"My name is {Name} i'm {Age} years old. I am from {State} state and i am {Profession} by profession\"\n",
    "print(Bio)\n"
   ]
  },
  {
   "cell_type": "markdown",
   "id": "6fe1fc4c",
   "metadata": {},
   "source": [
    "## List"
   ]
  },
  {
   "cell_type": "code",
   "execution_count": 14,
   "id": "2d641b73",
   "metadata": {},
   "outputs": [],
   "source": [
    "# Create a list of states in Nigeria\n",
    "\n",
    "# Abia\n",
    "# Adamawa\n",
    "# Akwa Ibom\n",
    "# Anambra\n",
    "# Bayelsa\n",
    "# Benue\n",
    "# Borno\n",
    "# Cross River\n",
    "# Nasarawa\n",
    "# Niger\n",
    "# Ogun\n",
    "# Ondo\n",
    "# Osun\n",
    "# Oyo\n",
    "# Plateau\n",
    "# Rivers\n",
    "# Sokoto\n",
    "# Taraba\n",
    "# Yobe\n",
    "# Zamfara\n",
    "\n",
    "# state = []\n",
    "\n",
    "#--------------- Write your code below----------------------------#\n",
    "\n",
    "list = [\"Abia\", \"Adamawa\", \"Akwa Ibom\", \"Anambra\", \"Bayelsa\", \"Benue\", \"Borno\", \"Cross River\", \"Nasarawa\", \n",
    "        \"Niger\",\"Ogun\", \"Ondo\", \"Osun\", \"Oyo\", \"Plateau\", \"Rivers\", \" Sokoto\", \"Taraba\", \"Yobe\",  \"Zamfara\"]\n"
   ]
  },
  {
   "cell_type": "code",
   "execution_count": 15,
   "id": "1e0e8f55",
   "metadata": {},
   "outputs": [
    {
     "data": {
      "text/plain": [
       "20"
      ]
     },
     "execution_count": 15,
     "metadata": {},
     "output_type": "execute_result"
    }
   ],
   "source": [
    "# Q1: What is the total length of your list\n",
    "\n",
    "#--------------- Write your code below----------------------------#\n",
    "\n",
    "len(list)\n"
   ]
  },
  {
   "cell_type": "code",
   "execution_count": 16,
   "id": "f44286cf",
   "metadata": {},
   "outputs": [
    {
     "data": {
      "text/plain": [
       "['Abia',\n",
       " 'Adamawa',\n",
       " 'Akwa Ibom',\n",
       " 'Anambra',\n",
       " 'Bayelsa',\n",
       " 'Benue',\n",
       " 'Borno',\n",
       " 'Cross River',\n",
       " 'Nasarawa',\n",
       " 'Niger']"
      ]
     },
     "execution_count": 16,
     "metadata": {},
     "output_type": "execute_result"
    }
   ],
   "source": [
    "# Q2: Index and retrieve the first 10\n",
    "\n",
    "#--------------- Write your code below----------------------------#\n",
    "\n",
    "list[:10]\n"
   ]
  },
  {
   "cell_type": "code",
   "execution_count": 17,
   "id": "3bd430f9",
   "metadata": {},
   "outputs": [
    {
     "data": {
      "text/plain": [
       "['Cross River', 'Nasarawa', 'Niger', 'Ogun', 'Ondo', 'Osun', 'Oyo', 'Plateau']"
      ]
     },
     "execution_count": 17,
     "metadata": {},
     "output_type": "execute_result"
    }
   ],
   "source": [
    "# Q3: Index and retrieve Cross River, Nasarawa, Niger, Ogun, Ondo, Osun, Oyo, Plateau\n",
    "\n",
    "#--------------- Write your code below----------------------------#\n",
    "\n",
    "list[7:15]\n"
   ]
  },
  {
   "cell_type": "code",
   "execution_count": 18,
   "id": "198857ad",
   "metadata": {},
   "outputs": [
    {
     "data": {
      "text/plain": [
       "['Rivers', ' Sokoto', 'Taraba', 'Yobe', 'Zamfara']"
      ]
     },
     "execution_count": 18,
     "metadata": {},
     "output_type": "execute_result"
    }
   ],
   "source": [
    "# Q4: Use Negative indexing to retrieve the last 5 states\n",
    "\n",
    "#--------------- Write your code below----------------------------#\n",
    "\n",
    "list[-5:]\n"
   ]
  },
  {
   "cell_type": "markdown",
   "id": "0773f2ff",
   "metadata": {},
   "source": [
    "## Dictionary"
   ]
  },
  {
   "cell_type": "code",
   "execution_count": 47,
   "id": "d6cdbef0",
   "metadata": {},
   "outputs": [
    {
     "name": "stdout",
     "output_type": "stream",
     "text": [
      "Abia State: nil\n",
      "Anambra State: Willie Obiano\n",
      "Benue State: Samuel Ortom\n",
      "Delta State: Ifeanyi Okowa\n",
      "Ekiti State: nil\n",
      "Lagos State: Babajide Sanwo-Olu\n",
      "Plateau State: Simon Lalong\n",
      "Taraba State: Arch. Darius Ishaku\n",
      "Kogi State: Yahaya Bello\n"
     ]
    }
   ],
   "source": [
    "# Q1: Create a dictionary of states and governor in Nigeria\n",
    "\n",
    "# Abia State: nil\n",
    "# Anambra State: Willie Obiano\n",
    "# Benue State: Samuel Ortom\n",
    "# Delta State: Ifeanyi Okowa\n",
    "# Ekiti State: nil\n",
    "# Lagos State: Babajide Sanwo-Olu\n",
    "# Plateau State: Simon Lalong\n",
    "# Taraba State: Arch. Darius Ishaku\n",
    "# Kogi State: Yahaya Bello\n",
    "# Anambra State: Willie Obiano\n",
    "\n",
    "#--------------- Write your code below----------------------------#\n",
    "\n",
    "states_and_governors = {\n",
    "    \"Abia State\": \"nil\",\n",
    "    \"Anambra State\": \"Willie Obiano\",\n",
    "    \"Benue State\": \"Samuel Ortom\",\n",
    "    \"Delta State\": \"Ifeanyi Okowa\",\n",
    "    \"Ekiti State\": \"nil\",\n",
    "    \"Lagos State\": \"Babajide Sanwo-Olu\",\n",
    "    \"Plateau State\": \"Simon Lalong\",\n",
    "    \"Taraba State\": \"Arch. Darius Ishaku\",\n",
    "    \"Kogi State\": \"Yahaya Bello\",\n",
    "}\n",
    "\n",
    "states_and_governors[\"Anambra State\"] = \"Willie Obiano\"\n",
    "\n",
    "for state, governor in states_and_governors.items():\n",
    "    print(f\"{state}: {governor}\")\n"
   ]
  },
  {
   "cell_type": "code",
   "execution_count": 48,
   "id": "9445fe7f",
   "metadata": {},
   "outputs": [
    {
     "name": "stdout",
     "output_type": "stream",
     "text": [
      "Abia State: Okezie Ikpeazu\n",
      "Anambra State: Willie Obiano\n",
      "Benue State: Samuel Ortom\n",
      "Delta State: Ifeanyi Okowa\n",
      "Ekiti State: Kayode Fayemi\n",
      "Lagos State: Babajide Sanwo-Olu\n",
      "Plateau State: Simon Lalong\n",
      "Taraba State: Arch. Darius Ishaku\n",
      "Kogi State: Yahaya Bello\n"
     ]
    }
   ],
   "source": [
    "# Q2: update Abia and Ekiti (Okezie Ikpeazu, Kayode Fayemi)\n",
    "\n",
    "#--------------- Write your code below----------------------------#\n",
    "\n",
    "states_and_governors[\"Abia State\"] = \"Okezie Ikpeazu\"\n",
    "states_and_governors[\"Ekiti State\"] = \"Kayode Fayemi\"\n",
    "\n",
    "for state, governor in states_and_governors.items():\n",
    "    print(f\"{state}: {governor}\")"
   ]
  },
  {
   "cell_type": "code",
   "execution_count": 49,
   "id": "24ca3ef2",
   "metadata": {},
   "outputs": [
    {
     "name": "stdout",
     "output_type": "stream",
     "text": [
      "Abia State: Okezie Ikpeazu\n",
      "Anambra State: Willie Obiano\n",
      "Benue State: Samuel Ortom\n",
      "Delta State: Ifeanyi Okowa\n",
      "Ekiti State: Kayode Fayemi\n",
      "Lagos State: Babajide Sanwo-Olu\n",
      "Plateau State: Simon Lalong\n",
      "Taraba State: Arch. Darius Ishaku\n",
      "Kogi State: Yahaya Bello\n",
      "Cross River State: Benedict Ayade\n",
      "Ebonyi State: Dave Umahi\n",
      "Sokoto State: Aminu Waziri Tambuwal\n"
     ]
    }
   ],
   "source": [
    "# Q3: Add\n",
    "# Cross River State: Benedict Ayade\n",
    "# Ebonyi State: Dave Umahi\n",
    "# Sokoto State: Aminu Waziri Tambuwal\n",
    "\n",
    "#--------------- Write your code below----------------------------#\n",
    "\n",
    "states_and_governors[\"Cross River State\"] = \"Benedict Ayade\"\n",
    "states_and_governors[\"Ebonyi State\"] = \"Dave Umahi\"\n",
    "states_and_governors[\"Sokoto State\"] = \"Aminu Waziri Tambuwal\"\n",
    "\n",
    "for state, governor in states_and_governors.items():\n",
    "    print(f\"{state}: {governor}\")\n"
   ]
  },
  {
   "cell_type": "code",
   "execution_count": 52,
   "id": "6ec34dfd",
   "metadata": {},
   "outputs": [
    {
     "name": "stdout",
     "output_type": "stream",
     "text": [
      "Abia State: Okezie Ikpeazu\n",
      "Anambra State: Willie Obiano\n",
      "Benue State: Samuel Ortom\n",
      "Delta State: Ifeanyi Okowa\n",
      "Ekiti State: Kayode Fayemi\n",
      "Plateau State: Simon Lalong\n",
      "Cross River State: Benedict Ayade\n",
      "Ebonyi State: Dave Umahi\n"
     ]
    }
   ],
   "source": [
    "# Q4: Remove Lagos, Sokoto, taraba and Kogi from the dictionary\n",
    "\n",
    "#--------------- Write your code below----------------------------#\n",
    "states_to_remove = [\"Lagos State\", \"Taraba State\", \"Kogi State\", \"Sokoto State\"]\n",
    "for state in states_to_remove:\n",
    "    if state in states_and_governors:\n",
    "        del states_and_governors[state]\n",
    "\n",
    "for state, governor in states_and_governors.items():\n",
    "    print(f\"{state}: {governor}\")\n"
   ]
  },
  {
   "cell_type": "markdown",
   "id": "6bd8488b",
   "metadata": {},
   "source": [
    "# General"
   ]
  },
  {
   "cell_type": "code",
   "execution_count": 36,
   "id": "dae1d5c5",
   "metadata": {},
   "outputs": [
    {
     "data": {
      "text/plain": [
       "['Lagos', 'Ogun', 'Ebonyi', 'Kano', 'Katsina', 'Oyo', 'Kwara', 'Cross River']"
      ]
     },
     "execution_count": 36,
     "metadata": {},
     "output_type": "execute_result"
    }
   ],
   "source": [
    "# Q1: Remove duplicates in the below items with one of Python's datatypes:\n",
    "#Lagos, Kwara, Ogun, Ebonyi, Kano, Katsina, Oyo, Kwara, Cross River\n",
    "\n",
    "#--------------- Write your code below----------------------------#\n",
    "\n",
    "state = [\"Lagos\", \"Kwara\", \"Ogun\", \"Ebonyi\", \"Kano\", \"Katsina\", \"Oyo\", \"Kwara\", \"Cross River\"]\n",
    "state.pop(1)\n",
    "state"
   ]
  },
  {
   "cell_type": "code",
   "execution_count": 39,
   "id": "088ccf5d",
   "metadata": {},
   "outputs": [
    {
     "data": {
      "text/plain": [
       "8"
      ]
     },
     "execution_count": 39,
     "metadata": {},
     "output_type": "execute_result"
    }
   ],
   "source": [
    "# Q2: What is the length of the datatype?\n",
    "\n",
    "#--------------- Write your code below----------------------------#\n",
    "len(state)\n"
   ]
  },
  {
   "cell_type": "code",
   "execution_count": null,
   "id": "55068436",
   "metadata": {},
   "outputs": [],
   "source": [
    "# Q3: What datatype ensures its elements are immutable?\n",
    "\n",
    "#--------------- Write your answer below----------------------------#\n",
    "\n",
    "Tuples"
   ]
  },
  {
   "cell_type": "code",
   "execution_count": null,
   "id": "1b31b6b1",
   "metadata": {},
   "outputs": [],
   "source": [
    "# Q4: What datatype of Python houses unordered elements?\n",
    "\n",
    "#--------------- Write your answer below----------------------------#\n",
    "\n",
    "set"
   ]
  }
 ],
 "metadata": {
  "kernelspec": {
   "display_name": "Python 3 (ipykernel)",
   "language": "python",
   "name": "python3"
  },
  "language_info": {
   "codemirror_mode": {
    "name": "ipython",
    "version": 3
   },
   "file_extension": ".py",
   "mimetype": "text/x-python",
   "name": "python",
   "nbconvert_exporter": "python",
   "pygments_lexer": "ipython3",
   "version": "3.11.3"
  }
 },
 "nbformat": 4,
 "nbformat_minor": 5
}
