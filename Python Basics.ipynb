{
 "cells": [
  {
   "cell_type": "markdown",
   "metadata": {},
   "source": [
    "<h1 align = center> Variables, Operators & Data Types</h1>\n",
    "<h4 align = center> Facilitator: Kelvin Oyanna</h4>"
   ]
  },
  {
   "cell_type": "markdown",
   "metadata": {},
   "source": [
    "Variables are containers or memory spaces for holding different types of python objects, including numeric, alphabetical, list, dictionary etc. Values are asigned to a variable using the assignment operator (=).\n",
    "Data type is the different way/format data is represented or stored in a variable. Below are variable definitions and different data types assigned to them."
   ]
  },
  {
   "cell_type": "markdown",
   "metadata": {},
   "source": [
    "## Defining variables & Data types"
   ]
  },
  {
   "cell_type": "code",
   "execution_count": 1,
   "metadata": {},
   "outputs": [],
   "source": [
    "counter = 50      # Integer assignment\n",
    "miles = 156.02    # Float point\n",
    "name = 'Kelvin'   # A string\n",
    "raining = True    # A boolean "
   ]
  },
  {
   "cell_type": "markdown",
   "metadata": {},
   "source": [
    "## Operators\n",
    "Operators act on two or more variables to product an output. Python supports most of the standard operators just like other programming languages. This includes Arithmetic (+, *, -, /), comparison (==, !=, >, <, <=, >=), logical (OR, AND, NOT), assignment operators (=, +=, -=, *=) etc."
   ]
  },
  {
   "cell_type": "markdown",
   "metadata": {},
   "source": [
    "#### Addition of two numbers"
   ]
  },
  {
   "cell_type": "code",
   "execution_count": 2,
   "metadata": {},
   "outputs": [
    {
     "name": "stdout",
     "output_type": "stream",
     "text": [
      "The sum of the two numbers = 1000\n"
     ]
    }
   ],
   "source": [
    "first_num = 700\n",
    "second_num = 300\n",
    "sum_of_nums = first_num + second_num\n",
    "print('The sum of the two numbers =', sum_of_nums)"
   ]
  },
  {
   "cell_type": "markdown",
   "metadata": {},
   "source": [
    "#### Multiplication of two numbers"
   ]
  },
  {
   "cell_type": "code",
   "execution_count": 3,
   "metadata": {},
   "outputs": [
    {
     "name": "stdout",
     "output_type": "stream",
     "text": [
      "The multiplication of the numbers is = 24\n"
     ]
    }
   ],
   "source": [
    "third_num = 8\n",
    "fourth_num = 3\n",
    "mult_of_nums = third_num * fourth_num # Use the multiplication operator\n",
    "print('The multiplication of the numbers is =', mult_of_nums)"
   ]
  },
  {
   "cell_type": "markdown",
   "metadata": {},
   "source": [
    "## Taking Input from Users\n",
    "The input() function is used to take input from users in Python. See exaple below:"
   ]
  },
  {
   "cell_type": "code",
   "execution_count": 4,
   "metadata": {},
   "outputs": [
    {
     "name": "stdout",
     "output_type": "stream",
     "text": [
      "Please enter your name: Mamiololo\n",
      "Welcome Mamiololo\n"
     ]
    }
   ],
   "source": [
    "name = input('Please enter your name: ')\n",
    "print('Welcome', name)"
   ]
  },
  {
   "cell_type": "code",
   "execution_count": 5,
   "metadata": {
    "scrolled": false
   },
   "outputs": [
    {
     "name": "stdout",
     "output_type": "stream",
     "text": [
      "Enter your name: Mamiololo\n",
      "Enter your age: 39\n",
      "Enter the country you want to visit: Canada\n",
      "Welcome   Mamiololoyour age is  39Your desired country of visit is Canada\n"
     ]
    }
   ],
   "source": [
    "name = input('Enter your name: ')\n",
    "age = input('Enter your age: ')\n",
    "country = input('Enter the country you want to visit: ')\n",
    "print('Welcome ' + ' '+ ' ' + name + 'your age is ' + ' ' + age + 'Your desired country of visit is ' + country)"
   ]
  },
  {
   "cell_type": "markdown",
   "metadata": {},
   "source": [
    "### Using a print format"
   ]
  },
  {
   "cell_type": "code",
   "execution_count": 6,
   "metadata": {},
   "outputs": [
    {
     "name": "stdout",
     "output_type": "stream",
     "text": [
      "Enter your name: Mamiololo\n",
      "Enter your age: 39\n",
      "Enter the country you want to visit: Canada\n",
      "Welcome Mamiololo. Your age is 39 and your desired country of visit is Canada\n"
     ]
    }
   ],
   "source": [
    "name = input('Enter your name: ')\n",
    "age = input('Enter your age: ')\n",
    "country = input('Enter the country you want to visit: ')\n",
    "print(f'Welcome {name}. Your age is {age} and your desired country of visit is {country}')"
   ]
  },
  {
   "cell_type": "markdown",
   "metadata": {},
   "source": [
    "## Type Conversion - Type casting\n",
    "The type casting functionality enables us to convert a variable of one type to another. Below, we did some type conversion."
   ]
  },
  {
   "cell_type": "code",
   "execution_count": 8,
   "metadata": {},
   "outputs": [
    {
     "name": "stdout",
     "output_type": "stream",
     "text": [
      "The integer value of length is =  3\n",
      "The float value of size is =  22.0\n",
      "The string value of height is =  6.34\n"
     ]
    }
   ],
   "source": [
    "length = 3.456\n",
    "size = 22\n",
    "height = 6.34\n",
    "\n",
    "int_lenght = int(length)\n",
    "\n",
    "float_size = float(size)\n",
    "\n",
    "str_height = str(height)\n",
    "\n",
    "print('The integer value of length is = ', int_lenght)\n",
    "\n",
    "print('The float value of size is = ', float_size)\n",
    "\n",
    "print('The string value of height is = ', str_height)"
   ]
  },
  {
   "cell_type": "markdown",
   "metadata": {},
   "source": [
    "### Build a simple addition Calculator"
   ]
  },
  {
   "cell_type": "code",
   "execution_count": 10,
   "metadata": {},
   "outputs": [
    {
     "name": "stdout",
     "output_type": "stream",
     "text": [
      "Enter a number: 3\n",
      "Enter another number: 3\n",
      "The sum of the numbers you entered is = 33\n"
     ]
    }
   ],
   "source": [
    "num1 = input('Enter a number: ')\n",
    "num2 = input('Enter another number: ')\n",
    "sum_of_numbers = num1 + num2\n",
    "print(f'The sum of the numbers you entered is = {sum_of_numbers}')"
   ]
  },
  {
   "cell_type": "code",
   "execution_count": 11,
   "metadata": {
    "scrolled": true
   },
   "outputs": [
    {
     "name": "stdout",
     "output_type": "stream",
     "text": [
      "Enter a number: 3\n",
      "Enter another number: 3\n",
      "The sum of the numbers you entered is = 6\n"
     ]
    }
   ],
   "source": [
    "num1 = int(input('Enter a number: '))\n",
    "num2 = int(input('Enter another number: '))\n",
    "sum_of_numbers = num1 + num2\n",
    "print(f'The sum of the numbers you entered is = {sum_of_numbers}')"
   ]
  },
  {
   "cell_type": "markdown",
   "metadata": {},
   "source": [
    "Assignment: Build a simple calculator to perform substraction, multiplication and division between two numbers"
   ]
  },
  {
   "cell_type": "markdown",
   "metadata": {},
   "source": [
    "### Build a Calculator Application"
   ]
  },
  {
   "cell_type": "code",
   "execution_count": 7,
   "metadata": {},
   "outputs": [
    {
     "name": "stdout",
     "output_type": "stream",
     "text": [
      "Enter a number: 100\n",
      "Enter another number: 200\n",
      "Enter another number: 400\n",
      "Enter another number: 500\n",
      "Enter another number: 400\n",
      "The sum of the numbers you entered is = 300\n"
     ]
    }
   ],
   "source": [
    "num1 = int(input('Enter a number: '))\n",
    "num2 = int(input('Enter another number: '))\n",
    "num3 = int(input('Enter another number: '))\n",
    "num4 = int(input('Enter another number: '))\n",
    "num5 = int(input('Enter another number: '))\n",
    "sum_of_numbers = num1 + num2\n",
    "print(f'The sum of the numbers you entered is = {sum_of_numbers}')"
   ]
  },
  {
   "cell_type": "code",
   "execution_count": 19,
   "metadata": {},
   "outputs": [
    {
     "name": "stdout",
     "output_type": "stream",
     "text": [
      "How many fruits do you want to buy?: 5\n",
      "Enter the fruit you want to buy: Pawpaw\n",
      "Enter the fruit you want to buy: Orange\n",
      "Enter the fruit you want to buy: Apple\n",
      "Enter the fruit you want to buy: lime\n",
      "['Pawpaw', 'Orange', 'Apple']\n"
     ]
    }
   ],
   "source": [
    "fruits = []\n",
    "count = 0\n",
    "num_fruits = int(input('How many fruits do you want to buy?: '))\n",
    "while count < num_fruits:\n",
    "    fruit = input('Enter the fruit you want to buy: ')\n",
    "    if fruit == 'lime':\n",
    "        break\n",
    "    fruits.append(fruit)\n",
    "    count += 1\n",
    "print(fruits)"
   ]
  },
  {
   "cell_type": "code",
   "execution_count": null,
   "metadata": {},
   "outputs": [],
   "source": [
    "count = 6 <  6\n",
    "num_fruits = 6"
   ]
  }
 ],
 "metadata": {
  "kernelspec": {
   "display_name": "Python 3 (ipykernel)",
   "language": "python",
   "name": "python3"
  },
  "language_info": {
   "codemirror_mode": {
    "name": "ipython",
    "version": 3
   },
   "file_extension": ".py",
   "mimetype": "text/x-python",
   "name": "python",
   "nbconvert_exporter": "python",
   "pygments_lexer": "ipython3",
   "version": "3.11.3"
  }
 },
 "nbformat": 4,
 "nbformat_minor": 4
}
