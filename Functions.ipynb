{
 "cells": [
  {
   "cell_type": "markdown",
   "metadata": {},
   "source": [
    "<h4 align = center> Facilitator: Kelvin Oyanna</h4>\n",
    "<h4 align = center> Email: dotkelplus@gmail.com</h4>"
   ]
  },
  {
   "cell_type": "markdown",
   "metadata": {},
   "source": [
    "<h1 align = center>Functions</h1>"
   ]
  },
  {
   "cell_type": "markdown",
   "metadata": {},
   "source": [
    "<b>A function is a block of organized, reusable code that is used to perform a single, related action. Functions provide better modularity for your application and a high degree of code reuseabilty.</b>"
   ]
  },
  {
   "cell_type": "markdown",
   "metadata": {},
   "source": [
    "## Defining a function"
   ]
  },
  {
   "cell_type": "raw",
   "metadata": {},
   "source": [
    "A function starts with the \"def\" keyword. This tells the program that the block of code that follow should be treated as a function.\n",
    "\n",
    "Function name: The name of the function immediately follows the def keyword. The is the name that identifies the function.\n",
    "\n",
    "Parameters: The parameters of a function are variables enclosed in an open and closed bracket. They supply more information to be used by the function. Parameters are passed as arguments from the function call.\n",
    "\n",
    "The statements: This is a block of code that defines the body of the function\n",
    "\n",
    "The return keyword: The return keyword is used to output the outcome or result of a function.\n",
    "\n",
    "def function_name(parameter1, parameter2, parameter3):\n",
    "    some statement\n",
    "    some other statement\n",
    "    return value or [expression]"
   ]
  },
  {
   "cell_type": "markdown",
   "metadata": {},
   "source": [
    "## A function that accepts arguments and returns a value"
   ]
  },
  {
   "cell_type": "code",
   "execution_count": 1,
   "metadata": {},
   "outputs": [],
   "source": [
    "# This function computes the Area of a Rectangle\n",
    "def area_of_rectangle(lenght, breadth):\n",
    "    area = lenght * breadth\n",
    "    return area"
   ]
  },
  {
   "cell_type": "markdown",
   "metadata": {},
   "source": [
    "## Performing a function call"
   ]
  },
  {
   "cell_type": "code",
   "execution_count": 3,
   "metadata": {},
   "outputs": [],
   "source": [
    "area = area_of_rectangle(2, 5)"
   ]
  },
  {
   "cell_type": "code",
   "execution_count": 4,
   "metadata": {},
   "outputs": [
    {
     "data": {
      "text/plain": [
       "20"
      ]
     },
     "execution_count": 4,
     "metadata": {},
     "output_type": "execute_result"
    }
   ],
   "source": [
    "area_of_rectangle(4,5)"
   ]
  },
  {
   "cell_type": "code",
   "execution_count": 15,
   "metadata": {},
   "outputs": [],
   "source": [
    "def volume_of_cube(radius, height):\n",
    "    volume_of_cube = (radius ** 2 * height)\n",
    "    return volume_of_cube\n",
    "    "
   ]
  },
  {
   "cell_type": "code",
   "execution_count": 16,
   "metadata": {},
   "outputs": [
    {
     "data": {
      "text/plain": [
       "80"
      ]
     },
     "execution_count": 16,
     "metadata": {},
     "output_type": "execute_result"
    }
   ],
   "source": [
    "volume_of_cube(4,5)"
   ]
  },
  {
   "cell_type": "code",
   "execution_count": 17,
   "metadata": {},
   "outputs": [
    {
     "name": "stdout",
     "output_type": "stream",
     "text": [
      "Enter the lenght of the Rectangle 20\n",
      "Enter the breadth of the Rectangle 15\n",
      "The area of the rectangle is = 300\n"
     ]
    }
   ],
   "source": [
    "lenght = int(input('Enter the lenght of the Rectangle ')) # Take the lenght of the rectangle from the user\n",
    "breadth = int(input('Enter the breadth of the Rectangle ')) # Take the breadth of the rectangle from the user\n",
    "\n",
    "area = area_of_rectangle(lenght, breadth) # Call the area_of_rectangle function with two arguments\n",
    "print(f'The area of the rectangle is = {area}') # Print the computed area of the rectangle"
   ]
  },
  {
   "cell_type": "markdown",
   "metadata": {},
   "source": [
    "## A function that doesn’t accept any argument or returns a value"
   ]
  },
  {
   "cell_type": "code",
   "execution_count": 18,
   "metadata": {},
   "outputs": [],
   "source": [
    "# This function simply prints out the current date and time\n",
    "from datetime import datetime\n",
    "def current_time():\n",
    "    current_date_time = datetime.now() # We use the now() method of the datetime library to get the current time \n",
    "    current_date_time = current_date_time.strftime('%Y-%m-%d %H:%M') # Format the appearance of the date and time\n",
    "    print('The current date and time is: ', current_date_time)"
   ]
  },
  {
   "cell_type": "code",
   "execution_count": 19,
   "metadata": {},
   "outputs": [
    {
     "name": "stdout",
     "output_type": "stream",
     "text": [
      "The current date and time is:  2023-09-22 22:40\n"
     ]
    }
   ],
   "source": [
    "current_time() # A function call"
   ]
  },
  {
   "cell_type": "markdown",
   "metadata": {},
   "source": [
    "## Default Parameter in a function\n",
    "<b>We can add default parameter in a function to have default values for parameters that are unspecified in a function call.</b>"
   ]
  },
  {
   "cell_type": "code",
   "execution_count": 20,
   "metadata": {},
   "outputs": [],
   "source": [
    "def volume_of_cylynder(height, radius, pi = 3.14159 ): # Pi is assigneded a default value of 3.14159\n",
    "    volume = height * pi * radius ** 2\n",
    "    return volume"
   ]
  },
  {
   "cell_type": "code",
   "execution_count": 21,
   "metadata": {},
   "outputs": [
    {
     "name": "stdout",
     "output_type": "stream",
     "text": [
      "20.0\n"
     ]
    }
   ],
   "source": [
    "print(volume_of_cylynder(2, 2, 2.5))"
   ]
  },
  {
   "cell_type": "code",
   "execution_count": 23,
   "metadata": {},
   "outputs": [
    {
     "name": "stdout",
     "output_type": "stream",
     "text": [
      "25.13272\n"
     ]
    }
   ],
   "source": [
    "print(volume_of_cylynder(2, 2, 3.14159))"
   ]
  },
  {
   "cell_type": "markdown",
   "metadata": {},
   "source": [
    "## Lambda Expression (Function)\n",
    "<b>Lamda expressions are used for creating anonymous functions. This is a functions that doesn't have a name. They're used for tasks that are only executed once and not needed afterwards.</b>"
   ]
  },
  {
   "cell_type": "markdown",
   "metadata": {},
   "source": [
    "## Syntax\n",
    "variable_to_store_function = lambda variables : expression\n",
    "\n",
    "The <b>lambda</b> keyword is used to indicate that this is a lambda function"
   ]
  },
  {
   "cell_type": "code",
   "execution_count": 24,
   "metadata": {
    "scrolled": true
   },
   "outputs": [
    {
     "data": {
      "text/plain": [
       "5000"
      ]
     },
     "execution_count": 24,
     "metadata": {},
     "output_type": "execute_result"
    }
   ],
   "source": [
    "# Lambda fuction to multyply two numbers\n",
    "multiply = lambda x, y: x * y\n",
    "\n",
    "multiply(100,50)"
   ]
  },
  {
   "cell_type": "code",
   "execution_count": 25,
   "metadata": {},
   "outputs": [
    {
     "data": {
      "text/plain": [
       "0.5"
      ]
     },
     "execution_count": 25,
     "metadata": {},
     "output_type": "execute_result"
    }
   ],
   "source": [
    "division = lambda a,b,c:a/b/c\n",
    "\n",
    "division(20,10,4)"
   ]
  },
  {
   "cell_type": "code",
   "execution_count": null,
   "metadata": {},
   "outputs": [],
   "source": []
  },
  {
   "cell_type": "markdown",
   "metadata": {},
   "source": [
    "# Lambda with special functions"
   ]
  },
  {
   "cell_type": "markdown",
   "metadata": {},
   "source": [
    "## Lambda with Map function\n",
    "<b> map() is a higher-order python built-in function that takes a function and an iterable (e.g list) as inputs, and returns an iterator that applies the function to each element of the iterable. \n",
    "\n",
    "The code below uses the map() along side the lambda function to find the average of each list in a collection of list of numbers:</b>"
   ]
  },
  {
   "cell_type": "code",
   "execution_count": 26,
   "metadata": {},
   "outputs": [
    {
     "name": "stdout",
     "output_type": "stream",
     "text": [
      "[57.0, 58.2, 50.6, 27.2]\n"
     ]
    }
   ],
   "source": [
    "numbers = [[34, 63, 88, 71, 29], [90, 78, 51, 27, 45], [63, 37, 85, 46, 22], [51, 22, 34, 11, 18]]\n",
    "average = lambda list_item : sum(list_item)/len(list_item) # Define a lambda function to compute average\n",
    "\n",
    "result = map(average, numbers) # Applying the average function to the list: numbers, using the map function\n",
    "print(list(result))"
   ]
  },
  {
   "cell_type": "code",
   "execution_count": 27,
   "metadata": {},
   "outputs": [
    {
     "name": "stdout",
     "output_type": "stream",
     "text": [
      "[57.0, 58.2, 50.6, 27.2]\n"
     ]
    }
   ],
   "source": [
    "numbers = [[34, 63, 88, 71, 29], [90, 78, 51, 27, 45], [63, 37, 85, 46, 22], [51, 22, 34, 11, 18]]\n",
    "#average =  # Define a lambda function to compute average\n",
    "\n",
    "result = map(lambda list_item : sum(list_item)/len(list_item), numbers) # Applying the average function to the list: numbers, using the map function\n",
    "print(list(result))"
   ]
  },
  {
   "cell_type": "code",
   "execution_count": null,
   "metadata": {},
   "outputs": [],
   "source": [
    "iterable and function"
   ]
  },
  {
   "cell_type": "markdown",
   "metadata": {},
   "source": [
    "### Long Method"
   ]
  },
  {
   "cell_type": "code",
   "execution_count": 28,
   "metadata": {},
   "outputs": [],
   "source": [
    "def average_of_num(list_item):\n",
    "    avg_val = []\n",
    "    for item in list_item:\n",
    "        avg = sum(item)/len(item)\n",
    "        avg_val.append(avg)\n",
    "    return avg_val"
   ]
  },
  {
   "cell_type": "code",
   "execution_count": 30,
   "metadata": {},
   "outputs": [],
   "source": [
    "numbers = [[34, 63, 88, 71, 29], [90, 78, 51, 27, 45], [63, 37, 85, 46, 22], [51, 22, 34, 11, 18]]\n",
    "avg_nums = map(average_of_num, numbers)"
   ]
  },
  {
   "cell_type": "markdown",
   "metadata": {},
   "source": [
    "### Short method using a lambda function"
   ]
  },
  {
   "cell_type": "code",
   "execution_count": null,
   "metadata": {},
   "outputs": [],
   "source": [
    "average = lambda list_item : sum(list_item)/len(list_item)"
   ]
  },
  {
   "cell_type": "code",
   "execution_count": 32,
   "metadata": {},
   "outputs": [],
   "source": [
    "numbers = [[34, 63, 88, 71, 29], [90, 78, 51, 27, 45], [63, 37, 85, 46, 22], [51, 22, 34, 11, 18]]\n",
    "#Average of numbers = average of individual list and average of combined list"
   ]
  },
  {
   "cell_type": "code",
   "execution_count": 33,
   "metadata": {},
   "outputs": [
    {
     "data": {
      "text/plain": [
       "30"
      ]
     },
     "execution_count": 33,
     "metadata": {},
     "output_type": "execute_result"
    }
   ],
   "source": [
    "area = lambda lenght, breath : lenght *  breath\n",
    "area(6,5)"
   ]
  },
  {
   "cell_type": "markdown",
   "metadata": {},
   "source": [
    "## Lambda with Filter function\n",
    "<b>The filter() function is a higher-order python built-in function that takes a function and an iterable as inputs and returns an iterator with the elements from the iterable for which the function returns True. \n",
    "\n",
    "The code below uses the filter() function alongside the lambda function to get the country names that are fewer than 10 characters long.</b>"
   ]
  },
  {
   "cell_type": "code",
   "execution_count": 34,
   "metadata": {},
   "outputs": [
    {
     "name": "stdout",
     "output_type": "stream",
     "text": [
      "['Ghana', 'Togo', 'Kenya']\n"
     ]
    }
   ],
   "source": [
    "countries = [\"Nigeria\", \"Ghana\", \"China Republic\", \"United Kingdom\", \"South Africa\", \"Togo\", \"Kenya\", \"Canada\"]\n",
    "\n",
    "#is_short = lambda name: len(name) <=5  # A lambda function to return True if the number of characters that makes up \n",
    "                                    # the name of a country is <= 5 OR False otherwise\n",
    "\n",
    "short_countries = filter(lambda name: len(name) <=5, countries) # The filter function is used to apply the above function \n",
    "# to the list of countries\n",
    "print(list(short_countries))"
   ]
  },
  {
   "cell_type": "code",
   "execution_count": 35,
   "metadata": {},
   "outputs": [
    {
     "name": "stdout",
     "output_type": "stream",
     "text": [
      "['Nigeria', 'Ghana', 'Togo', 'Kenya', 'Canada']\n"
     ]
    }
   ],
   "source": [
    "short_countries = filter(lambda name: len(name) <=7, countries) # The filter function is used to apply the above function \n",
    "# to the list of countries\n",
    "print(list(short_countries))"
   ]
  },
  {
   "cell_type": "code",
   "execution_count": null,
   "metadata": {},
   "outputs": [],
   "source": []
  }
 ],
 "metadata": {
  "kernelspec": {
   "display_name": "Python 3 (ipykernel)",
   "language": "python",
   "name": "python3"
  },
  "language_info": {
   "codemirror_mode": {
    "name": "ipython",
    "version": 3
   },
   "file_extension": ".py",
   "mimetype": "text/x-python",
   "name": "python",
   "nbconvert_exporter": "python",
   "pygments_lexer": "ipython3",
   "version": "3.11.3"
  }
 },
 "nbformat": 4,
 "nbformat_minor": 4
}
